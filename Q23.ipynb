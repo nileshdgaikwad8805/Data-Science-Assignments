{
  "nbformat": 4,
  "nbformat_minor": 0,
  "metadata": {
    "colab": {
      "provenance": [],
      "authorship_tag": "ABX9TyNQU+1lJKFk7hr/xjMMDIW2",
      "include_colab_link": true
    },
    "kernelspec": {
      "name": "python3",
      "display_name": "Python 3"
    },
    "language_info": {
      "name": "python"
    }
  },
  "cells": [
    {
      "cell_type": "markdown",
      "metadata": {
        "id": "view-in-github",
        "colab_type": "text"
      },
      "source": [
        "<a href=\"https://colab.research.google.com/github/nileshdgaikwad8805/Data-Science-Assignments/blob/main/Q23.ipynb\" target=\"_parent\"><img src=\"https://colab.research.google.com/assets/colab-badge.svg\" alt=\"Open In Colab\"/></a>"
      ]
    },
    {
      "cell_type": "code",
      "execution_count": 1,
      "metadata": {
        "id": "PPas5W6UzUWR"
      },
      "outputs": [],
      "source": [
        "from scipy import stats\n",
        "from scipy.stats import norm"
      ]
    },
    {
      "cell_type": "markdown",
      "source": [
        "t scores of 95% confidence interval for sample size of 25"
      ],
      "metadata": {
        "id": "LGdbDW17zim0"
      }
    },
    {
      "cell_type": "code",
      "source": [
        "\n",
        "stats.t.ppf(0.975,24)  # df = n-1 = 24"
      ],
      "metadata": {
        "colab": {
          "base_uri": "https://localhost:8080/"
        },
        "id": "rd1huDR1zbLE",
        "outputId": "e7305b5a-9f3e-4e1e-f2c3-482e2c7155d7"
      },
      "execution_count": 2,
      "outputs": [
        {
          "output_type": "execute_result",
          "data": {
            "text/plain": [
              "2.0638985616280205"
            ]
          },
          "metadata": {},
          "execution_count": 2
        }
      ]
    },
    {
      "cell_type": "markdown",
      "source": [
        "t scores of 96% confidence interval for sample size of 25"
      ],
      "metadata": {
        "id": "wAP3xk99zsEs"
      }
    },
    {
      "cell_type": "code",
      "source": [
        "stats.t.ppf(0.98,24)"
      ],
      "metadata": {
        "colab": {
          "base_uri": "https://localhost:8080/"
        },
        "id": "GjtQhSLizkQr",
        "outputId": "e6128336-24d9-4f3e-b9ef-56cb17bd0e7b"
      },
      "execution_count": 3,
      "outputs": [
        {
          "output_type": "execute_result",
          "data": {
            "text/plain": [
              "2.1715446760080677"
            ]
          },
          "metadata": {},
          "execution_count": 3
        }
      ]
    },
    {
      "cell_type": "markdown",
      "source": [
        "t scores of 99% confidence interval for sample size of 25"
      ],
      "metadata": {
        "id": "-fMjwVtmz3hr"
      }
    },
    {
      "cell_type": "code",
      "source": [
        "stats.t.ppf(0.995,24)"
      ],
      "metadata": {
        "colab": {
          "base_uri": "https://localhost:8080/"
        },
        "id": "11RaYHCRzxCa",
        "outputId": "a6aeb13c-69ce-4fe3-f55b-0a751c43fc0f"
      },
      "execution_count": 4,
      "outputs": [
        {
          "output_type": "execute_result",
          "data": {
            "text/plain": [
              "2.796939504772804"
            ]
          },
          "metadata": {},
          "execution_count": 4
        }
      ]
    },
    {
      "cell_type": "code",
      "source": [],
      "metadata": {
        "id": "ogHP8r2vz58-"
      },
      "execution_count": null,
      "outputs": []
    }
  ]
}