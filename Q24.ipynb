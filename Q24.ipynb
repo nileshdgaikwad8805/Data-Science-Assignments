{
  "nbformat": 4,
  "nbformat_minor": 0,
  "metadata": {
    "colab": {
      "provenance": [],
      "authorship_tag": "ABX9TyNCIzIuaIybi3jJMYlAo6av",
      "include_colab_link": true
    },
    "kernelspec": {
      "name": "python3",
      "display_name": "Python 3"
    },
    "language_info": {
      "name": "python"
    }
  },
  "cells": [
    {
      "cell_type": "markdown",
      "metadata": {
        "id": "view-in-github",
        "colab_type": "text"
      },
      "source": [
        "<a href=\"https://colab.research.google.com/github/nileshdgaikwad8805/Data-Science-Assignments/blob/main/Q24.ipynb\" target=\"_parent\"><img src=\"https://colab.research.google.com/assets/colab-badge.svg\" alt=\"Open In Colab\"/></a>"
      ]
    },
    {
      "cell_type": "code",
      "execution_count": 1,
      "metadata": {
        "id": "B_xI_lPwrBqN"
      },
      "outputs": [],
      "source": [
        "from scipy import stats\n",
        "from scipy.stats import norm"
      ]
    },
    {
      "cell_type": "code",
      "source": [
        "# Assume Null Hypothesis is: Ho = Avg life of Bulb >= 260 days\n"
      ],
      "metadata": {
        "id": "zxUxnBWCruaC"
      },
      "execution_count": 5,
      "outputs": []
    },
    {
      "cell_type": "code",
      "source": [
        "# Alternate Hypothesis is: Ha = Avg life of Bulb < 260 days"
      ],
      "metadata": {
        "id": "eHNCnghzsdkq"
      },
      "execution_count": 7,
      "outputs": []
    },
    {
      "cell_type": "code",
      "source": [
        "# find t-scores at x=260; t=(s_mean-P_mean)/(s_SD/sqrt(n))"
      ],
      "metadata": {
        "id": "kZCdhuhLsgYv"
      },
      "execution_count": 8,
      "outputs": []
    },
    {
      "cell_type": "code",
      "source": [
        "t=(260-270)/(90/18**0.5)\n"
      ],
      "metadata": {
        "id": "OLOzYu1lrOWc"
      },
      "execution_count": 9,
      "outputs": []
    },
    {
      "cell_type": "code",
      "source": [
        "t"
      ],
      "metadata": {
        "colab": {
          "base_uri": "https://localhost:8080/"
        },
        "id": "i6DaJIvAslYT",
        "outputId": "d8b4d94d-6bbf-4375-e634-f40b1f91225a"
      },
      "execution_count": 10,
      "outputs": [
        {
          "output_type": "execute_result",
          "data": {
            "text/plain": [
              "-0.4714045207910317"
            ]
          },
          "metadata": {},
          "execution_count": 10
        }
      ]
    },
    {
      "cell_type": "code",
      "source": [
        "# Find P(X>=260) for null hypothesis"
      ],
      "metadata": {
        "id": "tBc0DCiCrz-b"
      },
      "execution_count": 6,
      "outputs": []
    },
    {
      "cell_type": "markdown",
      "source": [
        "p_value=1-stats.t.cdf(abs(t_scores),df=n-1)... Using cdf function"
      ],
      "metadata": {
        "id": "jAANdlBzspi0"
      }
    },
    {
      "cell_type": "code",
      "source": [
        "\n",
        "p_value=1-stats.t.cdf(abs(-0.4714),df=17)\n"
      ],
      "metadata": {
        "id": "UF6NYs3KrVX4"
      },
      "execution_count": 11,
      "outputs": []
    },
    {
      "cell_type": "code",
      "source": [
        "p_value"
      ],
      "metadata": {
        "colab": {
          "base_uri": "https://localhost:8080/"
        },
        "id": "ijdVzBAYsul3",
        "outputId": "0d9de0ca-3990-48a5-e9c5-29a32da4c3f6"
      },
      "execution_count": 12,
      "outputs": [
        {
          "output_type": "execute_result",
          "data": {
            "text/plain": [
              "0.32167411684460556"
            ]
          },
          "metadata": {},
          "execution_count": 12
        }
      ]
    },
    {
      "cell_type": "markdown",
      "source": [
        "OR p_value=stats.t.sf(abs(t_score),df=n-1)... Using sf function"
      ],
      "metadata": {
        "id": "qMqkluyrsxME"
      }
    },
    {
      "cell_type": "code",
      "source": [
        "\n",
        "p_value=stats.t.sf(abs(-0.4714),df=17)\n"
      ],
      "metadata": {
        "id": "KsDwJM4NrafS"
      },
      "execution_count": 13,
      "outputs": []
    },
    {
      "cell_type": "code",
      "source": [
        "p_value"
      ],
      "metadata": {
        "colab": {
          "base_uri": "https://localhost:8080/"
        },
        "id": "JDGElttsrjUx",
        "outputId": "5b94d7c8-e27c-4477-c339-6b8bc152c3c3"
      },
      "execution_count": 14,
      "outputs": [
        {
          "output_type": "execute_result",
          "data": {
            "text/plain": [
              "0.32167411684460556"
            ]
          },
          "metadata": {},
          "execution_count": 14
        }
      ]
    },
    {
      "cell_type": "code",
      "source": [],
      "metadata": {
        "id": "xW-bhVa5s1bt"
      },
      "execution_count": null,
      "outputs": []
    }
  ]
}