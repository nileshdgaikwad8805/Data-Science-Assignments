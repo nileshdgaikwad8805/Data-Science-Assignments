{
  "nbformat": 4,
  "nbformat_minor": 0,
  "metadata": {
    "colab": {
      "provenance": [],
      "authorship_tag": "ABX9TyNeCyfwMPIezrWwapmJVrUu",
      "include_colab_link": true
    },
    "kernelspec": {
      "name": "python3",
      "display_name": "Python 3"
    },
    "language_info": {
      "name": "python"
    }
  },
  "cells": [
    {
      "cell_type": "markdown",
      "metadata": {
        "id": "view-in-github",
        "colab_type": "text"
      },
      "source": [
        "<a href=\"https://colab.research.google.com/github/nileshdgaikwad8805/Data-Science-Assignments/blob/Assignment1-Q11---Basic-Statistics/Q11.ipynb\" target=\"_parent\"><img src=\"https://colab.research.google.com/assets/colab-badge.svg\" alt=\"Open In Colab\"/></a>"
      ]
    },
    {
      "cell_type": "code",
      "execution_count": 2,
      "metadata": {
        "id": "e-xHoqBjULdq"
      },
      "outputs": [],
      "source": [
        "import numpy as np\n",
        "import pandas as pd\n",
        "from scipy import stats\n",
        "from scipy.stats import norm\n"
      ]
    },
    {
      "cell_type": "markdown",
      "source": [
        "Avg. weight of Adult in Mexico with 94% CI\n",
        "\n",
        "\n",
        "\n"
      ],
      "metadata": {
        "id": "H0rqmafBVTGg"
      }
    },
    {
      "cell_type": "code",
      "source": [
        "stats.norm.interval(0.94,200,30/(2000**0.5))"
      ],
      "metadata": {
        "colab": {
          "base_uri": "https://localhost:8080/"
        },
        "id": "NRsKeDCDUO5v",
        "outputId": "00dd8d29-4673-4490-a362-4e5c5b365e85"
      },
      "execution_count": 7,
      "outputs": [
        {
          "output_type": "execute_result",
          "data": {
            "text/plain": [
              "(198.738325292158, 201.261674707842)"
            ]
          },
          "metadata": {},
          "execution_count": 7
        }
      ]
    },
    {
      "cell_type": "markdown",
      "source": [
        "Avg. weight of Adult in Mexico with 98% CI"
      ],
      "metadata": {
        "id": "waLBrmRzVYU-"
      }
    },
    {
      "cell_type": "code",
      "source": [
        "stats.norm.interval(0.98,200,30/(2000**0.5))"
      ],
      "metadata": {
        "colab": {
          "base_uri": "https://localhost:8080/"
        },
        "id": "IijG9KNiUcGz",
        "outputId": "ed75551e-968e-4fbe-c420-fa758b06b1e7"
      },
      "execution_count": 8,
      "outputs": [
        {
          "output_type": "execute_result",
          "data": {
            "text/plain": [
              "(198.43943840429978, 201.56056159570022)"
            ]
          },
          "metadata": {},
          "execution_count": 8
        }
      ]
    },
    {
      "cell_type": "markdown",
      "source": [
        "Avg. weight of Adult in Mexico with 96% CI"
      ],
      "metadata": {
        "id": "DNTZp3KPVk18"
      }
    },
    {
      "cell_type": "code",
      "source": [
        "stats.norm.interval(0.96,200,30/(2000**0.5))"
      ],
      "metadata": {
        "colab": {
          "base_uri": "https://localhost:8080/"
        },
        "id": "5irxwMT9Unry",
        "outputId": "63c2093d-f054-4859-c033-370a3c6e7dc4"
      },
      "execution_count": 5,
      "outputs": [
        {
          "output_type": "execute_result",
          "data": {
            "text/plain": [
              "(198.62230334813333, 201.37769665186667)"
            ]
          },
          "metadata": {},
          "execution_count": 5
        }
      ]
    },
    {
      "cell_type": "code",
      "source": [],
      "metadata": {
        "id": "1UNp3pSVUqiO"
      },
      "execution_count": null,
      "outputs": []
    }
  ]
}